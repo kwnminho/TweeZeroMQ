{
 "cells": [
  {
   "cell_type": "code",
   "execution_count": null,
   "metadata": {},
   "outputs": [
    {
     "name": "stdout",
     "output_type": "stream",
     "text": [
      "going!\n",
      "Connecting to hello world server…\n",
      "Sending request 0 …\n"
     ]
    }
   ],
   "source": [
    "#\n",
    "#   AWG client in Python\n",
    "#   Connects REQ socket to tcp://localhost:5555\n",
    "#   Sends \"Hello\" to server, expects \"World\" back\n",
    "#\n",
    "\n",
    "print('going!')\n",
    "import zmq\n",
    "\n",
    "context = zmq.Context()\n",
    "\n",
    "#  Socket to talk to server\n",
    "print(\"Connecting to hello world server…\")\n",
    "socket = context.socket(zmq.REQ)\n",
    "socket.connect(\"tcp://localhost:5555\")\n",
    "\n",
    "#  Do 10 requests, waiting each time for a response\n",
    "\n",
    "# b in front of the string convert them into bytes\n",
    "for request in range(10):\n",
    "    print(f\"Sending request {request} …\")\n",
    "    socket.send(b'START')\n",
    "    #socket.send(\"START\")\n",
    "\n",
    "    #  Get the reply.\n",
    "    message = socket.recv()\n",
    "    print(f\"Received reply {request} [ {message} ]\")"
   ]
  },
  {
   "cell_type": "code",
   "execution_count": 3,
   "metadata": {},
   "outputs": [
    {
     "name": "stdout",
     "output_type": "stream",
     "text": [
      "Received reply [ b'Starting the AWG' ]\n"
     ]
    }
   ],
   "source": [
    "# single request tester\n",
    "\n",
    "socket.send(b'START')\n",
    "message = socket.recv()\n",
    "print(f\"Received reply [ {message} ]\")"
   ]
  },
  {
   "cell_type": "code",
   "execution_count": 5,
   "metadata": {},
   "outputs": [
    {
     "name": "stdout",
     "output_type": "stream",
     "text": [
      "Received reply [ b'Stopping the server' ]\n"
     ]
    }
   ],
   "source": [
    "# single request tester\n",
    "\n",
    "socket.send(b'STOP_SERVER')\n",
    "message = socket.recv()\n",
    "print(f\"Received reply [ {message} ]\")"
   ]
  },
  {
   "cell_type": "code",
   "execution_count": null,
   "metadata": {},
   "outputs": [],
   "source": []
  }
 ],
 "metadata": {
  "kernelspec": {
   "display_name": "Python 3",
   "language": "python",
   "name": "python3"
  },
  "language_info": {
   "codemirror_mode": {
    "name": "ipython",
    "version": 3
   },
   "file_extension": ".py",
   "mimetype": "text/x-python",
   "name": "python",
   "nbconvert_exporter": "python",
   "pygments_lexer": "ipython3",
   "version": "3.7.7"
  }
 },
 "nbformat": 4,
 "nbformat_minor": 5
}

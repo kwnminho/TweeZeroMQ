{
 "cells": [
  {
   "cell_type": "code",
   "execution_count": 1,
   "metadata": {},
   "outputs": [
    {
     "name": "stdout",
     "output_type": "stream",
     "text": [
      "STARTING THE SERVER\n",
      "Received request: b'START'\n",
      "Received request: b'START'\n",
      "Received request: b'START'\n",
      "Received request: b'START'\n",
      "Received request: b'STOP'\n",
      "Received request: b'STOP'\n",
      "Received request: b'START'\n",
      "Received request: b'STOP'\n",
      "Received request: b'STOP'\n",
      "Received request: b'START'\n",
      "Received request: b'START'\n",
      "Received request: b'START'\n",
      "Received request: b'STOP'\n",
      "Received request: b'STOP'\n",
      "Received request: b'START'\n",
      "Received request: b'STOP'\n",
      "Received request: b'START'\n",
      "Received request: b'KILL_SERVER'\n",
      "This program has ended\n"
     ]
    }
   ],
   "source": [
    "#\n",
    "#   AWG server in Python\n",
    "#   Binds REP socket to tcp://*:5555\n",
    "#   Expects b\"Hello\" from client, replies with b\"World\"\n",
    "#\n",
    "import time\n",
    "import zmq\n",
    "import logging\n",
    "from cmdparse import SCPIParser\n",
    "\n",
    "# setup logging\n",
    "logger = logging.getLogger(__name__)\n",
    "logger.setLevel(logging.INFO)\n",
    "\n",
    "#\n",
    "port=5555\n",
    "context = zmq.Context()\n",
    "socket = context.socket(zmq.REP)\n",
    "addr = \"tcp://*:{}\".format(port)\n",
    "socket.bind(addr)\n",
    "logger.info('Server listending at : {}'.format(addr))\n",
    "\n",
    "parser=SCPIParser()\n",
    "print('STARTING THE SERVER')\n",
    "should_continue=True\n",
    "while should_continue:\n",
    "    #  Wait for next request from client\n",
    "    message = socket.recv()\n",
    "    print(f\"Received request: {message}\")\n",
    "    reply, should_continue=parser.parsecmd(message)\n",
    "    \n",
    "    #  Send reply back to client\n",
    "    #socket.send(b\"message acknowledged\")\n",
    "    socket.send(reply)\n",
    "print('This program has ended')"
   ]
  },
  {
   "cell_type": "code",
   "execution_count": 1,
   "metadata": {},
   "outputs": [
    {
     "data": {
      "text/plain": [
       "(b'Stopping the AWG', True)"
      ]
     },
     "execution_count": 1,
     "metadata": {},
     "output_type": "execute_result"
    }
   ],
   "source": [
    "from cmdparse import SCPIParser\n",
    "parser=SCPIParser()\n",
    "parser.parsecmd(b'STOP')"
   ]
  },
  {
   "cell_type": "code",
   "execution_count": 3,
   "metadata": {},
   "outputs": [
    {
     "name": "stdout",
     "output_type": "stream",
     "text": [
      "uploading the data to the AWG\n",
      "[ 0.   0.1  0.2  0.3  0.4  0.5  0.6  0.7  0.8  0.9  1.   1.1  1.2  1.3\n",
      "  1.4  1.5  1.6  1.7  1.8  1.9  2.   2.1  2.2  2.3  2.4  2.5  2.6  2.7\n",
      "  2.8  2.9  3.   3.1  3.2  3.3  3.4  3.5  3.6  3.7  3.8  3.9  4.   4.1\n",
      "  4.2  4.3  4.4  4.5  4.6  4.7  4.8  4.9  5.   5.1  5.2  5.3  5.4  5.5\n",
      "  5.6  5.7  5.8  5.9  6.   6.1  6.2  6.3  6.4  6.5  6.6  6.7  6.8  6.9\n",
      "  7.   7.1  7.2  7.3  7.4  7.5  7.6  7.7  7.8  7.9  8.   8.1  8.2  8.3\n",
      "  8.4  8.5  8.6  8.7  8.8  8.9  9.   9.1  9.2  9.3  9.4  9.5  9.6  9.7\n",
      "  9.8  9.9 10. ]\n"
     ]
    },
    {
     "data": {
      "text/plain": [
       "(b'data uploaded', True)"
      ]
     },
     "execution_count": 3,
     "metadata": {},
     "output_type": "execute_result"
    }
   ],
   "source": [
    "from cmdparse import SCPIParser\n",
    "import numpy as np\n",
    "parser=SCPIParser()\n",
    "data_array=np.linspace(0,10,101)\n",
    "parser.parsecmd(b'UPLOAD_DATA',data_array)"
   ]
  },
  {
   "cell_type": "code",
   "execution_count": null,
   "metadata": {},
   "outputs": [],
   "source": []
  }
 ],
 "metadata": {
  "kernelspec": {
   "display_name": "Python 3",
   "language": "python",
   "name": "python3"
  },
  "language_info": {
   "codemirror_mode": {
    "name": "ipython",
    "version": 3
   },
   "file_extension": ".py",
   "mimetype": "text/x-python",
   "name": "python",
   "nbconvert_exporter": "python",
   "pygments_lexer": "ipython3",
   "version": "3.8.5"
  }
 },
 "nbformat": 4,
 "nbformat_minor": 5
}

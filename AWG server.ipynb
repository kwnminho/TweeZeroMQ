{
 "cells": [
  {
   "cell_type": "code",
   "execution_count": null,
   "metadata": {},
   "outputs": [
    {
     "name": "stdout",
     "output_type": "stream",
     "text": [
      "STARTING THE SERVER\n"
     ]
    }
   ],
   "source": [
    "#\n",
    "#   AWG server in Python\n",
    "#   Binds REP socket to tcp://*:5555\n",
    "#   Expects b\"Hello\" from client, replies with b\"World\"\n",
    "#\n",
    "import time\n",
    "import zmq\n",
    "import logging\n",
    "from cmdparse import SCPIParser\n",
    "\n",
    "# setup logging\n",
    "logger = logging.getLogger(__name__)\n",
    "logger.setLevel(logging.INFO)\n",
    "\n",
    "#\n",
    "port=5555\n",
    "context = zmq.Context()\n",
    "socket = context.socket(zmq.REP)\n",
    "addr = \"tcp://*:{}\".format(port)\n",
    "socket.bind(addr)\n",
    "logger.info('Server listending at : {}'.format(addr))\n",
    "\n",
    "parser=SCPIParser()\n",
    "print('STARTING THE SERVER')\n",
    "should_continue=True\n",
    "while should_continue:\n",
    "    #  Wait for next request from client\n",
    "    message = socket.recv()\n",
    "    print(f\"Received request: {message}\")\n",
    "    reply, should_continue=parser.parsecmd([message])\n",
    "    \n",
    "    #  Send reply back to client\n",
    "    #socket.send(b\"message acknowledged\")\n",
    "    socket.send(reply)\n",
    "print('This program has ended')"
   ]
  },
  {
   "cell_type": "code",
   "execution_count": 1,
   "metadata": {},
   "outputs": [
    {
     "data": {
      "text/plain": [
       "(b'Stopping the AWG', True)"
      ]
     },
     "execution_count": 1,
     "metadata": {},
     "output_type": "execute_result"
    }
   ],
   "source": [
    "from cmdparse import SCPIParser\n",
    "parser=SCPIParser()\n",
    "parser.parsecmd(b'STOP')"
   ]
  },
  {
   "cell_type": "code",
   "execution_count": 3,
   "metadata": {},
   "outputs": [
    {
     "name": "stdout",
     "output_type": "stream",
     "text": [
      "Upload dataaaa\n"
     ]
    },
    {
     "data": {
      "text/plain": [
       "(b'data uploaded', [1, 5, 1, 3, 5, 6], True)"
      ]
     },
     "execution_count": 3,
     "metadata": {},
     "output_type": "execute_result"
    }
   ],
   "source": [
    "from cmdparse import SCPIParser\n",
    "parser=SCPIParser()\n",
    "parser.parsecmd(b'UPLOAD_DATA',[1,5,1,3,5,6])"
   ]
  },
  {
   "cell_type": "code",
   "execution_count": null,
   "metadata": {},
   "outputs": [],
   "source": []
  }
 ],
 "metadata": {
  "kernelspec": {
   "display_name": "Python 3",
   "language": "python",
   "name": "python3"
  },
  "language_info": {
   "codemirror_mode": {
    "name": "ipython",
    "version": 3
   },
   "file_extension": ".py",
   "mimetype": "text/x-python",
   "name": "python",
   "nbconvert_exporter": "python",
   "pygments_lexer": "ipython3",
   "version": "3.7.7"
  }
 },
 "nbformat": 4,
 "nbformat_minor": 5
}
